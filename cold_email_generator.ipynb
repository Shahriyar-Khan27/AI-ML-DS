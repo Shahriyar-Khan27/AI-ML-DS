{
 "cells": [
  {
   "cell_type": "code",
   "execution_count": 13,
   "id": "0eccd20e",
   "metadata": {},
   "outputs": [],
   "source": [
    "from langchain_groq import ChatGroq"
   ]
  },
  {
   "cell_type": "code",
   "execution_count": 14,
   "id": "c16ff50e",
   "metadata": {},
   "outputs": [
    {
     "name": "stdout",
     "output_type": "stream",
     "text": [
      "The first Prime Minister of India was Jawaharlal Nehru. He served as the Prime Minister from August 15, 1947, to May 27, 1964.\n"
     ]
    }
   ],
   "source": [
    "llm = ChatGroq(\n",
    "    temperature=0, \n",
    "    groq_api_key='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', \n",
    "    model_name=\"llama-3.1-70b-versatile\"\n",
    ")\n",
    "response = llm.invoke(\"Who was the first prime minister of india was...\")\n",
    "print(response.content)"
   ]
  },
  {
   "cell_type": "code",
   "execution_count": 15,
   "id": "90d33612",
   "metadata": {},
   "outputs": [
    {
     "name": "stdout",
     "output_type": "stream",
     "text": [
      "\n",
      "\n",
      "\n",
      "\n",
      "Lead Full Stack Developer | Mercedes-Benz > Career > Job Search > Job Postings\n",
      "\n",
      "\n",
      "\n",
      "\n",
      "\n",
      "\n",
      "\n",
      "\n",
      "\n",
      "\n",
      "\n",
      "\n",
      "\n",
      "\n",
      "\n",
      "\n",
      "\n",
      "\n",
      "\n",
      "\n",
      "\n",
      "\n",
      "\n",
      "\n",
      "\n",
      "\n",
      "\n",
      "\n",
      "\n",
      "\n",
      "\n",
      "\n",
      "\n",
      "\n",
      "\n",
      "\n",
      "\n",
      "\n",
      "\n",
      "\n",
      "\n",
      "\n",
      "\n",
      "\n",
      "\n",
      "\n",
      "\n",
      "\n",
      "\n",
      "\n",
      "\n",
      "\n",
      "\n",
      "\n",
      "\n",
      "\n",
      "\n",
      "\n",
      "\n",
      "\n",
      "\n",
      "\n",
      "\n",
      "\n",
      "\n",
      "\n",
      "\n",
      "\n",
      "\n",
      " DE  EN Provider/PrivacyCompanyInnovationResponsibilityCareersInvestorsPressProductsCareersJob searchLead Full Stack DeveloperJob category:Research and Development incl. DesignDepartment:Data Engineering 2Organization:Mercedes-Benz Research and Development India Private LimitedLocation:Mercedes-Benz Research and Development India, BangaloreStart date:immediatelyPublication date:17.09.2024Job number:MER0003ATNWorking time:full time ApplyTasksWe are looking for a Full Stack Developer to produce scalable fast performing web application to display high frequency data without experiencing any performance degradations.  \n",
      "\n",
      "You’ll be part of a team that’s responsible for the full software development life cycle, from conception to deployment. \n",
      "You should be comfortable around both front-end and back-end coding languages, development frameworks and open source libraries. You should also be a team player with a knack for visual design and utility. \n",
      "\n",
      "\n",
      "\n",
      "\n",
      "\n",
      "Skill set: \n",
      "\n",
      "\n",
      "\n",
      "Strong hands-on of front-end language and libraries (e.g. HTML/ CSS, JavaScript, XML, jQuery) \n",
      "\n",
      "\n",
      "\n",
      "\n",
      "Strong hands-on of JavaScript framework (e.g. Angular, React, Node.js) \n",
      "\n",
      "\n",
      "\n",
      "\n",
      "API, fast API development \n",
      "\n",
      "\n",
      "\n",
      "\n",
      "Hands-on Web sockets IO \n",
      "\n",
      "\n",
      "\n",
      "\n",
      "Good to have database knowledge & query writing (SQL, postgres) \n",
      "\n",
      "\n",
      "\n",
      "\n",
      "Good to have any back-end language (e.g. C#, Java, Python) \n",
      "\n",
      "\n",
      " QualificationsBE/BTech , ME/MTechBenefitsDiscounts for employees possibleHealth BenefitsMobile Phone possibleMeal-DiscountsCompany RetirementHybrid Work possibleMobility offersEvents for employeesCoachingFlexitime possibleInhouse DoctorCanteen, CaféBarrier-free workplaceGood public transportParkingNear-site ChildcareContactMercedes-Benz Research and Development India Private LimitedPlot No. 5-P, EPIP 1st Phase560 066 BangaloreDetails to locationNagendra Jakka E-Mail: nagendra.jakka@mercedes-benz.com ApplyThe Mercedes-Benz Group.The Mercedes-Benz Group AG (former Daimler AG) is one of the world's most successful automotive companies. With Mercedes-Benz AG, we are one of the leading global suppliers of premium and luxury cars and vans. Mercedes-Benz Mobility AG offers financing, leasing, car subscription and car rental, fleet management, digital services for charging and payment, insurance brokerage, as well as innovative mobility services.Learn moreTechnical Support HotlineContactLocationsPodcastsDo not sell or share my personal information (CCPA & CPRA)ProviderLegal NoticeSettingsPrivacy StatementThird Party License NoticeTerms & Conditions© 2023 Mercedes-Benz Group AG. All rights reserved.\n",
      "\n",
      "\n",
      "\n"
     ]
    }
   ],
   "source": [
    "from langchain_community.document_loaders import WebBaseLoader\n",
    "\n",
    "loader = WebBaseLoader(\"https://jobs.mercedes-benz.com/en/lead-full-stack-developer-136292-MER0003ATN\")\n",
    "page_data = loader.load().pop().page_content\n",
    "print(page_data)"
   ]
  },
  {
   "cell_type": "code",
   "execution_count": 16,
   "id": "85c89a57",
   "metadata": {},
   "outputs": [
    {
     "data": {
      "text/plain": [
       "str"
      ]
     },
     "execution_count": 16,
     "metadata": {},
     "output_type": "execute_result"
    }
   ],
   "source": [
    "from langchain_core.prompts import PromptTemplate\n",
    "\n",
    "prompt_extract = PromptTemplate.from_template(\n",
    "        \"\"\"\n",
    "        ### SCRAPED TEXT FROM WEBSITE:\n",
    "        {page_data}\n",
    "        ### INSTRUCTION:\n",
    "        The scraped text is from the career's page of a website.\n",
    "        Your job is to extract the job postings and return them in JSON format containing the \n",
    "        following keys: `role`, `experience`, `skills` and `description`.\n",
    "        Only return the valid JSON.\n",
    "        ### VALID JSON (NO PREAMBLE):    \n",
    "        \"\"\"\n",
    ")\n",
    "\n",
    "chain_extract = prompt_extract | llm \n",
    "res = chain_extract.invoke(input={'page_data':page_data})\n",
    "type(res.content)"
   ]
  },
  {
   "cell_type": "code",
   "execution_count": 17,
   "id": "5415fd54",
   "metadata": {},
   "outputs": [
    {
     "data": {
      "text/plain": [
       "{'role': 'Lead Full Stack Developer',\n",
       " 'experience': 'Not specified',\n",
       " 'skills': ['HTML/CSS',\n",
       "  'JavaScript',\n",
       "  'XML',\n",
       "  'jQuery',\n",
       "  'Angular',\n",
       "  'React',\n",
       "  'Node.js',\n",
       "  'API development',\n",
       "  'Web sockets IO',\n",
       "  'SQL',\n",
       "  'Postgres',\n",
       "  'C#',\n",
       "  'Java',\n",
       "  'Python'],\n",
       " 'description': 'We are looking for a Full Stack Developer to produce scalable fast performing web application to display high frequency data without experiencing any performance degradations. You’ll be part of a team that’s responsible for the full software development life cycle, from conception to deployment.'}"
      ]
     },
     "execution_count": 17,
     "metadata": {},
     "output_type": "execute_result"
    }
   ],
   "source": [
    "from langchain_core.output_parsers import JsonOutputParser\n",
    "\n",
    "json_parser = JsonOutputParser()\n",
    "json_res = json_parser.parse(res.content)\n",
    "json_res"
   ]
  },
  {
   "cell_type": "code",
   "execution_count": 18,
   "id": "39961ed6",
   "metadata": {},
   "outputs": [
    {
     "data": {
      "text/plain": [
       "dict"
      ]
     },
     "execution_count": 18,
     "metadata": {},
     "output_type": "execute_result"
    }
   ],
   "source": [
    "type(json_res)"
   ]
  },
  {
   "cell_type": "code",
   "execution_count": 19,
   "id": "1e8a0f74",
   "metadata": {},
   "outputs": [
    {
     "data": {
      "text/html": [
       "<div>\n",
       "<style scoped>\n",
       "    .dataframe tbody tr th:only-of-type {\n",
       "        vertical-align: middle;\n",
       "    }\n",
       "\n",
       "    .dataframe tbody tr th {\n",
       "        vertical-align: top;\n",
       "    }\n",
       "\n",
       "    .dataframe thead th {\n",
       "        text-align: right;\n",
       "    }\n",
       "</style>\n",
       "<table border=\"1\" class=\"dataframe\">\n",
       "  <thead>\n",
       "    <tr style=\"text-align: right;\">\n",
       "      <th></th>\n",
       "      <th>Techstack</th>\n",
       "      <th>Links</th>\n",
       "    </tr>\n",
       "  </thead>\n",
       "  <tbody>\n",
       "    <tr>\n",
       "      <th>0</th>\n",
       "      <td>React, Node.js, MongoDB</td>\n",
       "      <td>https://example.com/react-portfolio</td>\n",
       "    </tr>\n",
       "    <tr>\n",
       "      <th>1</th>\n",
       "      <td>Angular,.NET, SQL Server</td>\n",
       "      <td>https://example.com/angular-portfolio</td>\n",
       "    </tr>\n",
       "    <tr>\n",
       "      <th>2</th>\n",
       "      <td>Vue.js, Ruby on Rails, PostgreSQL</td>\n",
       "      <td>https://example.com/vue-portfolio</td>\n",
       "    </tr>\n",
       "    <tr>\n",
       "      <th>3</th>\n",
       "      <td>Python, Django, MySQL</td>\n",
       "      <td>https://example.com/python-portfolio</td>\n",
       "    </tr>\n",
       "    <tr>\n",
       "      <th>4</th>\n",
       "      <td>Java, Spring Boot, Oracle</td>\n",
       "      <td>https://example.com/java-portfolio</td>\n",
       "    </tr>\n",
       "    <tr>\n",
       "      <th>5</th>\n",
       "      <td>Flutter, Firebase, GraphQL</td>\n",
       "      <td>https://example.com/flutter-portfolio</td>\n",
       "    </tr>\n",
       "    <tr>\n",
       "      <th>6</th>\n",
       "      <td>WordPress, PHP, MySQL</td>\n",
       "      <td>https://example.com/wordpress-portfolio</td>\n",
       "    </tr>\n",
       "    <tr>\n",
       "      <th>7</th>\n",
       "      <td>Magento, PHP, MySQL</td>\n",
       "      <td>https://example.com/magento-portfolio</td>\n",
       "    </tr>\n",
       "    <tr>\n",
       "      <th>8</th>\n",
       "      <td>React Native, Node.js, MongoDB</td>\n",
       "      <td>https://example.com/react-native-portfolio</td>\n",
       "    </tr>\n",
       "    <tr>\n",
       "      <th>9</th>\n",
       "      <td>iOS, Swift, Core Data</td>\n",
       "      <td>https://example.com/ios-portfolio</td>\n",
       "    </tr>\n",
       "    <tr>\n",
       "      <th>10</th>\n",
       "      <td>Android, Java, Room Persistence</td>\n",
       "      <td>https://example.com/android-portfolio</td>\n",
       "    </tr>\n",
       "    <tr>\n",
       "      <th>11</th>\n",
       "      <td>Kotlin, Android, Firebase</td>\n",
       "      <td>https://example.com/kotlin-android-portfolio</td>\n",
       "    </tr>\n",
       "    <tr>\n",
       "      <th>12</th>\n",
       "      <td>Android TV, Kotlin, Android NDK</td>\n",
       "      <td>https://example.com/android-tv-portfolio</td>\n",
       "    </tr>\n",
       "    <tr>\n",
       "      <th>13</th>\n",
       "      <td>iOS, Swift, ARKit</td>\n",
       "      <td>https://example.com/ios-ar-portfolio</td>\n",
       "    </tr>\n",
       "    <tr>\n",
       "      <th>14</th>\n",
       "      <td>Cross-platform, Xamarin, Azure</td>\n",
       "      <td>https://example.com/xamarin-portfolio</td>\n",
       "    </tr>\n",
       "    <tr>\n",
       "      <th>15</th>\n",
       "      <td>Backend, Kotlin, Spring Boot</td>\n",
       "      <td>https://example.com/kotlin-backend-portfolio</td>\n",
       "    </tr>\n",
       "    <tr>\n",
       "      <th>16</th>\n",
       "      <td>Frontend, TypeScript, Angular</td>\n",
       "      <td>https://example.com/typescript-frontend-portfolio</td>\n",
       "    </tr>\n",
       "    <tr>\n",
       "      <th>17</th>\n",
       "      <td>Full-stack, JavaScript, Express.js</td>\n",
       "      <td>https://example.com/full-stack-js-portfolio</td>\n",
       "    </tr>\n",
       "    <tr>\n",
       "      <th>18</th>\n",
       "      <td>Machine Learning, Python, TensorFlow</td>\n",
       "      <td>https://example.com/ml-python-portfolio</td>\n",
       "    </tr>\n",
       "    <tr>\n",
       "      <th>19</th>\n",
       "      <td>DevOps, Jenkins, Docker</td>\n",
       "      <td>https://example.com/devops-portfolio</td>\n",
       "    </tr>\n",
       "  </tbody>\n",
       "</table>\n",
       "</div>"
      ],
      "text/plain": [
       "                               Techstack  \\\n",
       "0                React, Node.js, MongoDB   \n",
       "1               Angular,.NET, SQL Server   \n",
       "2      Vue.js, Ruby on Rails, PostgreSQL   \n",
       "3                  Python, Django, MySQL   \n",
       "4              Java, Spring Boot, Oracle   \n",
       "5             Flutter, Firebase, GraphQL   \n",
       "6                  WordPress, PHP, MySQL   \n",
       "7                    Magento, PHP, MySQL   \n",
       "8         React Native, Node.js, MongoDB   \n",
       "9                  iOS, Swift, Core Data   \n",
       "10       Android, Java, Room Persistence   \n",
       "11             Kotlin, Android, Firebase   \n",
       "12       Android TV, Kotlin, Android NDK   \n",
       "13                     iOS, Swift, ARKit   \n",
       "14        Cross-platform, Xamarin, Azure   \n",
       "15          Backend, Kotlin, Spring Boot   \n",
       "16         Frontend, TypeScript, Angular   \n",
       "17    Full-stack, JavaScript, Express.js   \n",
       "18  Machine Learning, Python, TensorFlow   \n",
       "19               DevOps, Jenkins, Docker   \n",
       "\n",
       "                                                Links  \n",
       "0                 https://example.com/react-portfolio  \n",
       "1               https://example.com/angular-portfolio  \n",
       "2                   https://example.com/vue-portfolio  \n",
       "3                https://example.com/python-portfolio  \n",
       "4                  https://example.com/java-portfolio  \n",
       "5               https://example.com/flutter-portfolio  \n",
       "6             https://example.com/wordpress-portfolio  \n",
       "7               https://example.com/magento-portfolio  \n",
       "8          https://example.com/react-native-portfolio  \n",
       "9                   https://example.com/ios-portfolio  \n",
       "10              https://example.com/android-portfolio  \n",
       "11       https://example.com/kotlin-android-portfolio  \n",
       "12           https://example.com/android-tv-portfolio  \n",
       "13               https://example.com/ios-ar-portfolio  \n",
       "14              https://example.com/xamarin-portfolio  \n",
       "15       https://example.com/kotlin-backend-portfolio  \n",
       "16  https://example.com/typescript-frontend-portfolio  \n",
       "17        https://example.com/full-stack-js-portfolio  \n",
       "18            https://example.com/ml-python-portfolio  \n",
       "19               https://example.com/devops-portfolio  "
      ]
     },
     "execution_count": 19,
     "metadata": {},
     "output_type": "execute_result"
    }
   ],
   "source": [
    "import pandas as pd\n",
    "\n",
    "df = pd.read_csv(\"my_portfolio.csv\")\n",
    "df"
   ]
  },
  {
   "cell_type": "code",
   "execution_count": 20,
   "id": "f7e888d4",
   "metadata": {},
   "outputs": [],
   "source": [
    "import uuid\n",
    "import chromadb\n",
    "\n",
    "client = chromadb.PersistentClient('vectorstore')\n",
    "collection = client.get_or_create_collection(name=\"portfolio\")\n",
    "\n",
    "if not collection.count():\n",
    "    for _, row in df.iterrows():\n",
    "        collection.add(documents=row[\"Techstack\"],\n",
    "                       metadatas={\"links\": row[\"Links\"]},\n",
    "                       ids=[str(uuid.uuid4())])"
   ]
  },
  {
   "cell_type": "code",
   "execution_count": 21,
   "id": "39ad2fa2",
   "metadata": {},
   "outputs": [
    {
     "data": {
      "text/plain": [
       "[[{'links': 'https://example.com/ml-python-portfolio'},\n",
       "  {'links': 'https://example.com/python-portfolio'}],\n",
       " [{'links': 'https://example.com/xamarin-portfolio'},\n",
       "  {'links': 'https://example.com/angular-portfolio'}]]"
      ]
     },
     "execution_count": 21,
     "metadata": {},
     "output_type": "execute_result"
    }
   ],
   "source": [
    "links = collection.query(query_texts=[\"Experience in Python\",\"Experience in Azure\"], n_results=2).get('metadatas', [])\n",
    "links"
   ]
  },
  {
   "cell_type": "code",
   "execution_count": 22,
   "id": "8bd36844",
   "metadata": {},
   "outputs": [
    {
     "data": {
      "text/plain": [
       "['HTML/CSS',\n",
       " 'JavaScript',\n",
       " 'XML',\n",
       " 'jQuery',\n",
       " 'Angular',\n",
       " 'React',\n",
       " 'Node.js',\n",
       " 'API development',\n",
       " 'Web sockets IO',\n",
       " 'SQL',\n",
       " 'Postgres',\n",
       " 'C#',\n",
       " 'Java',\n",
       " 'Python']"
      ]
     },
     "execution_count": 22,
     "metadata": {},
     "output_type": "execute_result"
    }
   ],
   "source": [
    "job=json_res\n",
    "job['skills']"
   ]
  },
  {
   "cell_type": "code",
   "execution_count": 23,
   "id": "1ccfd720",
   "metadata": {},
   "outputs": [
    {
     "data": {
      "text/plain": [
       "['HTML/CSS',\n",
       " 'JavaScript',\n",
       " 'XML',\n",
       " 'jQuery',\n",
       " 'Angular',\n",
       " 'React',\n",
       " 'Node.js',\n",
       " 'API development',\n",
       " 'Web sockets IO',\n",
       " 'SQL',\n",
       " 'Postgres',\n",
       " 'C#',\n",
       " 'Java',\n",
       " 'Python']"
      ]
     },
     "execution_count": 23,
     "metadata": {},
     "output_type": "execute_result"
    }
   ],
   "source": [
    "job = json_res\n",
    "job['skills']"
   ]
  },
  {
   "cell_type": "code",
   "execution_count": 24,
   "id": "64a97dd2",
   "metadata": {},
   "outputs": [
    {
     "name": "stdout",
     "output_type": "stream",
     "text": [
      "Subject: Unlocking High-Performance Solutions for Your Web Application\n",
      "\n",
      "Dear Hiring Manager,\n",
      "\n",
      "I came across your job posting for a Lead Full Stack Developer and was impressed by your company's vision for a scalable and fast-performing web application. As a Business Development Executive at Mercedes-Benz, I'd like to introduce you to our team's capabilities in delivering high-performance solutions that can meet your needs.\n",
      "\n",
      "At Mercedes-Benz, we've empowered our partners with cutting-edge technology, optimizing speed, reliability, and efficiency in both our products and processes. Our expertise in software development, particularly in full-stack development, can help you achieve your goals. Our team has experience working with a range of technologies, including HTML/CSS, JavaScript, Node.js, and SQL, which aligns with your job requirements.\n",
      "\n",
      "I'd like to highlight a few examples of our work that demonstrate our capabilities:\n",
      "\n",
      "* Our Python expertise has been showcased in projects such as [https://example.com/ml-python-portfolio](https://example.com/ml-python-portfolio) and [https://example.com/python-portfolio](https://example.com/python-portfolio), where we've developed high-performance applications using machine learning and data analytics.\n",
      "* Our experience with Angular is evident in [https://example.com/angular-portfolio](https://example.com/angular-portfolio), where we've built scalable and efficient web applications.\n",
      "\n",
      "We believe that our team's expertise and experience make us an ideal partner for your project. We'd be delighted to discuss how we can help you achieve your goals and deliver a high-performance web application that meets your needs.\n",
      "\n",
      "If you're interested in learning more about our capabilities and how we can support your project, please don't hesitate to contact me. I'd be happy to schedule a call to discuss further.\n",
      "\n",
      "Best regards,\n",
      "\n",
      "Dev\n",
      "Business Development Executive\n",
      "Mercedes-Benz\n"
     ]
    }
   ],
   "source": [
    "prompt_email = PromptTemplate.from_template(\n",
    "        \"\"\"\n",
    "        ### JOB DESCRIPTION:\n",
    "        {job_description}\n",
    "        \n",
    "        ### INSTRUCTION:\n",
    "        You are Dev, a business development executive at Mercedes-Benz. Mercedes is\n",
    "        a leading innovator in the automotive industry and is exploring the integration of\n",
    "        cutting-edge technology into its vehicles and internal operations. Over our\n",
    "        experience, we have empowered our partners with high-performance solutions,\n",
    "        optimizing speed, reliability, and efficiency in both our products and processes.\n",
    "\n",
    "        Your job is to write a cold email to the client regarding the job mentioned above describing \n",
    "        the capability of Mercedes in fulfilling their needs. Also, add the most relevant ones from \n",
    "        the following links to showcase Mercedes' portfolio: {link_list}.\n",
    "\n",
    "        Remember you are Dev, BDE at Mercedes-Benz.\n",
    "        ### EMAIL (NO PREAMBLE):\n",
    "        \"\"\"\n",
    "        )\n",
    "\n",
    "chain_email = prompt_email | llm\n",
    "res = chain_email.invoke({\"job_description\": str(job), \"link_list\":links})\n",
    "print(res.content)"
   ]
  }
 ],
 "metadata": {
  "kernelspec": {
   "display_name": "Python 3 (ipykernel)",
   "language": "python",
   "name": "python3"
  },
  "language_info": {
   "codemirror_mode": {
    "name": "ipython",
    "version": 3
   },
   "file_extension": ".py",
   "mimetype": "text/x-python",
   "name": "python",
   "nbconvert_exporter": "python",
   "pygments_lexer": "ipython3",
   "version": "3.11.5"
  }
 },
 "nbformat": 4,
 "nbformat_minor": 5
}
